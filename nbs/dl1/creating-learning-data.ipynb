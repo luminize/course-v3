{
 "cells": [
  {
   "cell_type": "code",
   "execution_count": 1,
   "metadata": {},
   "outputs": [],
   "source": [
    "%reload_ext autoreload\n",
    "%autoreload 2\n",
    "%matplotlib inline\n",
    "%config IPCompleter.greedy=True"
   ]
  },
  {
   "cell_type": "markdown",
   "metadata": {},
   "source": [
    "https://automatetheboringstuff.com/chapter17/\n",
    "\n",
    "https://docs.opencv.org/3.4.3/dc/dbb/tutorial_py_calibration.html"
   ]
  },
  {
   "cell_type": "markdown",
   "metadata": {},
   "source": [
    "The objective of this doc is to create learning data so that we can recognize:\n",
    "* position of an object\n",
    "* has the object got one or more parallel edges\n",
    "* if there are parallel edges, what is the rotation of the longest parallel set\n",
    "\n",
    "a set parallel edges are parallel if:\n",
    "* parallelism within certain angle\n",
    "\n",
    "rotation is:\n",
    "* a number between 0 and 180 degrees"
   ]
  },
  {
   "cell_type": "markdown",
   "metadata": {},
   "source": [
    "The scheme will be as follows:\n",
    "\n",
    "create a region with 4 edges\n",
    "inputs:\n",
    "* amount of pictures\n",
    "* max angle to be considered still parallel (in degrees)\n",
    "\n",
    "then:\n",
    "* create a new image\n",
    "* rotate the region\n",
    "* paste the region onto the image\n",
    "* save the image -> directory\n",
    "\n",
    "append in labels file:\n",
    "* image file name \n",
    "* has_more_than_zero_parallel_sets\n",
    "* center_x\n",
    "* center_y\n",
    "* rotation\n",
    "\n",
    "What to do with corner cases, like squares?\n",
    "* Let's ignore squares for now"
   ]
  },
  {
   "cell_type": "code",
   "execution_count": 2,
   "metadata": {},
   "outputs": [],
   "source": [
    "from PIL import Image, ImageDraw, ImageFont\n",
    "import matplotlib.pyplot as plt\n",
    "import matplotlib.image as mpimg\n",
    "import math"
   ]
  },
  {
   "cell_type": "code",
   "execution_count": 3,
   "metadata": {},
   "outputs": [
    {
     "data": {
      "text/plain": [
       "0.010374153885699955"
      ]
     },
     "execution_count": 3,
     "metadata": {},
     "output_type": "execute_result"
    }
   ],
   "source": [
    "import numpy as np\n",
    "np.random.seed(9)\n",
    "np.random.random()"
   ]
  },
  {
   "cell_type": "code",
   "execution_count": 4,
   "metadata": {},
   "outputs": [],
   "source": [
    "np.random.seed(None)"
   ]
  },
  {
   "cell_type": "code",
   "execution_count": 102,
   "metadata": {},
   "outputs": [],
   "source": [
    "# define the variables for our images\n",
    "img_w = 600\n",
    "img_l = 400\n",
    "\n",
    "# max angle considered parallel\n",
    "max_angle = 2\n",
    "# upper boundary for generating non-paralellism\n",
    "variation_max = 30\n",
    "# some base parameters for shapes\n",
    "width_min = 40\n",
    "width_max = 80\n",
    "var_x = 10\n",
    "# we do not make square regions for now\n",
    "# the longer side:\n",
    "# - should be at least 10 pixels longer\n",
    "# - lenght with a max of 200% of the shorter side\n",
    "long_side_fact_max = 2\n",
    "long_side_addition = 20\n",
    "# the position should also have a variance\n",
    "max_var_x = 20\n",
    "max_var_y = 10\n",
    "max_rotation = 180"
   ]
  },
  {
   "cell_type": "code",
   "execution_count": 83,
   "metadata": {},
   "outputs": [
    {
     "name": "stdout",
     "output_type": "stream",
     "text": [
      "w = 41.30780691667215\n",
      "l = 134.21031368309593\n"
     ]
    }
   ],
   "source": [
    "# generate nominal width and length\n",
    "def generate_rect(width_max, width_min, long_side_fact_max, long_side_addition):\n",
    "    width_var = width_max - width_min\n",
    "    rect_width = width_min + (np.random.random() * width_var) \n",
    "    rect_length = rect_width + long_side_addition + ((np.random.random() * rect_width * long_side_fact_max))\n",
    "    return rect_width, rect_length\n",
    "\n",
    "w,l = generate_rect(width_max, width_min, long_side_fact_max, long_side_addition)\n",
    "print('w = %s' % w)\n",
    "print('l = %s' % l)\n"
   ]
  },
  {
   "cell_type": "code",
   "execution_count": 84,
   "metadata": {},
   "outputs": [],
   "source": [
    "# create a point class\n",
    "class point(object):\n",
    "    def __init__(self, px, py):\n",
    "        self.x = px\n",
    "        self.y = py\n",
    "    \n",
    "    def coordinates(self):\n",
    "        return self.x, self.y\n",
    "\n",
    "# create four_sides class\n",
    "# we draw a rectangle on its side\n",
    "class four_sides(object):\n",
    "    def __init__(self, w, l):\n",
    "        self.w = w\n",
    "        self.l = l\n",
    "        # from quadr 3 -> 4 -> 1 -> 2\n",
    "        self.p1 = point(-l/2, -w/2)\n",
    "        self.p2 = point(l/2, -w/2)\n",
    "        self.p3 = point(l/2, w/2)\n",
    "        self.p4 = point(-l/2, w/2)\n",
    "    \n",
    "    # var_max will be used for changing the long sides\n",
    "    # of the rectangle to a non_parallel shape\n",
    "    #\n",
    "    # thresh_par is the threshold under which we consider\n",
    "    # the two sides parallel\n",
    "    #\n",
    "    # we always modify the lowest edge in length with a\n",
    "    # minimal value of thresh_par so that our two side edges\n",
    "    # are defenitely not parallel\n",
    "    def modify(self, var_max, var_x):\n",
    "        # extend lowest edge\n",
    "        self.p1.x -= (1 + np.random.random()) * (var_x / 2)\n",
    "        self.p2.x += (1 + np.random.random()) * (var_x / 2)\n",
    "        self.p3.y += (2 * (0.5 - np.random.random())) * (var_max / 2)\n",
    "        self.p4.y += (2 * (0.5 - np.random.random())) * (var_max / 2)\n",
    "    \n",
    "    def calc_parallel(self, thresh_ang):\n",
    "        # we only modified the top edge in y-direction\n",
    "        self.angle = self.calc_angle()\n",
    "        if (abs(self.angle) < thresh_ang):\n",
    "            self.is_parallel = True\n",
    "        else:\n",
    "            self.is_parallel = False\n",
    "        return self.is_parallel\n",
    "    \n",
    "    def calc_angle(self):\n",
    "        # we only modify the top edge in y-direction\n",
    "        dy = self.p4.y - self.p3.y\n",
    "        dx = self.p4.x - self.p3.x\n",
    "        return -(math.atan(dy/dx))*(180/math.pi)\n",
    "        \n",
    "    def get_circumference(self):\n",
    "        list_circ = [ self.p1.coordinates(),\n",
    "                     self.p2.coordinates(),\n",
    "                     self.p3.coordinates(),\n",
    "                     self.p4.coordinates()]\n",
    "        return list_circ"
   ]
  },
  {
   "cell_type": "code",
   "execution_count": 85,
   "metadata": {},
   "outputs": [],
   "source": [
    "def draw_shape(shape, w, l):\n",
    "    rect_back = Image.new('RGBA', (w, l), (0,0,0,0))\n",
    "    mid_w = w / 2\n",
    "    mid_h = l / 2\n",
    "\n",
    "    drw = ImageDraw.Draw(rect_back)\n",
    "    \n",
    "    # get the circumference\n",
    "    reg = shape.get_circumference()\n",
    "    # shift to the center\n",
    "    circ = []\n",
    "    for p in reg:\n",
    "        # print(p)\n",
    "        px, py = p\n",
    "        px += mid_w\n",
    "        py += mid_h\n",
    "        circ.append((px, py))\n",
    "    # randomize colours \n",
    "    drw.polygon(circ, fill=(np.random.randint(150, 200), np.random.randint(150, 200), np.random.randint(150, 200), 255))\n",
    "    del drw\n",
    "    return rect_back\n"
   ]
  },
  {
   "cell_type": "code",
   "execution_count": 86,
   "metadata": {},
   "outputs": [
    {
     "name": "stdout",
     "output_type": "stream",
     "text": [
      "-47.41840012911113\n",
      "35.31070832226335\n",
      "48.58673619309916\n",
      "-6.674138166080622\n",
      "False\n"
     ]
    },
    {
     "data": {
      "image/png": "[encoded data removed]",
      "text/plain": [
       "<PIL.Image.Image image mode=RGBA size=600x400 at 0x2C0D1B16DA0>"
      ]
     },
     "execution_count": 86,
     "metadata": {},
     "output_type": "execute_result"
    }
   ],
   "source": [
    "# generate dimensions\n",
    "w,l = generate_rect(width_max, width_min, long_side_fact_max, long_side_addition)\n",
    "\n",
    "# instantiate a thingy\n",
    "thingy = four_sides(w, l)\n",
    "print(thingy.p1.x)\n",
    "print(thingy.p3.y)\n",
    "\n",
    "# do magic modification\n",
    "thingy.modify(variation_max, var_x)\n",
    "print(thingy.p3.y)\n",
    "\n",
    "print(thingy.calc_angle())\n",
    "\n",
    "print(thingy.calc_parallel(max_angle))\n",
    "draw_shape(thingy, img_w, img_l)"
   ]
  },
  {
   "cell_type": "code",
   "execution_count": 87,
   "metadata": {},
   "outputs": [
    {
     "name": "stdout",
     "output_type": "stream",
     "text": [
      "-80.8580215150151\n",
      "-87.53215968109572\n"
     ]
    },
    {
     "data": {
      "image/png": "[encoded data removed]",
      "text/plain": [
       "<PIL.Image.Image image mode=RGBA size=492x656 at 0x2C0D1B8ECC0>"
      ]
     },
     "execution_count": 87,
     "metadata": {},
     "output_type": "execute_result"
    }
   ],
   "source": [
    "rotation = (0.5 - np.random.random()) * max_rotation\n",
    "img = draw_shape(thingy, img_w, img_l)\n",
    "rotated_shape = img.rotate(rotation, expand=True)\n",
    "print(rotation)\n",
    "print(rotation + thingy.angle)\n",
    "rotated_shape"
   ]
  },
  {
   "cell_type": "code",
   "execution_count": 98,
   "metadata": {},
   "outputs": [],
   "source": [
    "# we now have randomized shapes, with randomized rotations\n",
    "# let's create the image, with a cackground and \n",
    "# paste them on top of that background\n",
    "\n",
    "class shape_img(object):\n",
    "    def __init__(self, w, l):\n",
    "        min_grey_val = 100\n",
    "        grey_val = np.random.randint(0, min_grey_val)\n",
    "        self.img = Image.new('RGBA', (w, l), (grey_val,grey_val,grey_val,255))\n",
    "        self.scale = 0\n",
    "    \n",
    "    def paste(self, im):\n",
    "        # vary x and y position\n",
    "        var_x = 50 + (0.5 - np.random.random()) * self.scale\n",
    "        var_y = 50 - (0.5 - np.random.random()) * self.scale\n",
    "        self.img.paste(im, (int(var_x), int(var_y)) , im)\n",
    "        return var_x, var_y\n",
    "        \n",
    "    def get_img(self):\n",
    "        return self.img\n",
    "    \n",
    "    def set_random_scale(self, scale):\n",
    "        self.scale = scale"
   ]
  },
  {
   "cell_type": "code",
   "execution_count": 95,
   "metadata": {},
   "outputs": [
    {
     "name": "stdout",
     "output_type": "stream",
     "text": [
      "49.69675220427464\n",
      "48.85233586949849\n"
     ]
    },
    {
     "data": {
      "image/png": "[encoded data removed]",
      "text/plain": [
       "<PIL.Image.Image image mode=RGBA size=600x400 at 0x2C0D1B97EB8>"
      ]
     },
     "execution_count": 95,
     "metadata": {},
     "output_type": "execute_result"
    }
   ],
   "source": [
    "test = shape_img(img_w, img_l)\n",
    "test.set_random_scale(10)\n",
    "x_var, y_var = test.paste(rotated_shape)\n",
    "print(x_var)\n",
    "print(y_var)\n",
    "test.img\n",
    "#img.get_img()"
   ]
  },
  {
   "cell_type": "code",
   "execution_count": 176,
   "metadata": {},
   "outputs": [],
   "source": [
    "def create_sample(filename, filetype):\n",
    "    w,l = generate_rect(width_max, width_min, long_side_fact_max, long_side_addition)\n",
    "\n",
    "    # instantiate a thingy\n",
    "    thingy = four_sides(w, l)\n",
    "    # do magic modification\n",
    "    thingy.modify(variation_max, var_x)\n",
    "    # get rotation of long side and if the shape has parallel sides\n",
    "    rot_angle = thingy.calc_angle() / 2\n",
    "    if int(thingy.calc_parallel(max_angle)) == 1:\n",
    "        parallel = 'yes'\n",
    "    else:\n",
    "        parallel = 'no'\n",
    "    # create random rotation\n",
    "    pic_rotation = (0.5 - np.random.random()) * max_rotation\n",
    "    # Total angle of rotation between centerline of long sides\n",
    "    angle_z = pic_rotation + rot_angle\n",
    "    \n",
    "    # create the shape image\n",
    "    img = draw_shape(thingy, img_w, img_l)\n",
    "    rotated_shape = img.rotate(pic_rotation, expand=False)\n",
    "    \n",
    "    # create the base image on which to paste the shape\n",
    "    picture = shape_img(img_w + 100, img_l + 100)\n",
    "    picture.set_random_scale(10)\n",
    "    x_var, y_var = picture.paste(rotated_shape)\n",
    "    pict = picture.get_img()\n",
    "    \n",
    "    pict.thumbnail((pict.width/4, pict.height/4))\n",
    "    \n",
    "    # filename\n",
    "    if filetype == 'JPEG':\n",
    "        rgb_im = pict.convert('RGB')\n",
    "        rgb_im.save(filename)\n",
    "    else:\n",
    "        pict.save(filename)\n",
    "    return pict, parallel, angle_z, x_var, y_var\n"
   ]
  },
  {
   "cell_type": "code",
   "execution_count": 175,
   "metadata": {},
   "outputs": [
    {
     "data": {
      "text/plain": [
       "<function TextIOWrapper.close()>"
      ]
     },
     "execution_count": 175,
     "metadata": {},
     "output_type": "execute_result"
    }
   ],
   "source": [
    "path_base = 'parallel_images_data'\n",
    "path_train = 'images_jpg'\n",
    "\n",
    "\n",
    "# define the variables for our images\n",
    "img_w = 2400\n",
    "img_l = 1600\n",
    "\n",
    "# max angle considered parallel\n",
    "max_angle = 2\n",
    "# upper boundary for generating non-paralellism\n",
    "variation_max = 60\n",
    "# some base parameters for shapes\n",
    "width_min = 160\n",
    "width_max = 320\n",
    "var_x = 40\n",
    "# we do not make square regions for now\n",
    "# the longer side:\n",
    "# - should be at least 10 pixels longer\n",
    "# - lenght with a max of 200% of the shorter side\n",
    "long_side_fact_max = 2\n",
    "long_side_addition = 80\n",
    "# the position should also have a variance\n",
    "max_var_x = 80\n",
    "max_var_y = 40\n",
    "max_rotation = 180\n",
    "\n",
    "file_iter = 0\n",
    "file_labels = path_base + '\\\\labels_png.csv'\n",
    "\n",
    "# uncomment to generate new data\n",
    "\n",
    "#with open(file_labels, 'w') as f:\n",
    "#    f.write('filename,has_parallel_sides,angle_z,pos_x,pos_y\\n')\n",
    "    \n",
    "#f.close()\n",
    "\n",
    "#extension = '.png'\n",
    "#filetype = 'PNG'\n",
    "#pictures = 4000\n",
    "#for pic in range(0,pictures):\n",
    "#    f_name = path_base + '\\\\' + path_train + '\\\\' + str(pic) + extension\n",
    "#    f_path = path_train + '\\\\' + str(pic) + extension\n",
    "#    randimg, p, a, x, y = create_sample(f_name, filetype)\n",
    "#    with open(file_labels, 'at') as f2:\n",
    "#         f2.write('%s,%s,%s,%s,%s\\n' % (f_path, p, a, x, y))\n",
    "\n",
    "#f2.close"
   ]
  },
  {
   "cell_type": "code",
   "execution_count": 177,
   "metadata": {},
   "outputs": [
    {
     "name": "stdout",
     "output_type": "stream",
     "text": [
      "parallel_images_data\\test2.jpg\n",
      "no 20.834616415985423 51.98530105318729 50.98555196689695\n"
     ]
    },
    {
     "data": {
      "image/png": "[encoded data removed]",
      "text/plain": [
       "<PIL.Image.Image image mode=RGBA size=625x425 at 0x2C0D1C02AC8>"
      ]
     },
     "execution_count": 177,
     "metadata": {},
     "output_type": "execute_result"
    }
   ],
   "source": [
    "# for creating one single random image\n",
    "extension = '.png'\n",
    "filetype = 'PNG'\n",
    "\n",
    "f_n = path_base + '\\\\test2' + extension\n",
    "print(f_n)\n",
    "gen_rand_img, p, a, x, y = create_sample(f_n, filetype)\n",
    "print (p, a, x, y)\n",
    "gen_rand_img"
   ]
  },
  {
   "cell_type": "code",
   "execution_count": null,
   "metadata": {},
   "outputs": [],
   "source": []
  }
 ],
 "metadata": {
  "kernelspec": {
   "display_name": "Python 3",
   "language": "python",
   "name": "python3"
  },
  "language_info": {
   "codemirror_mode": {
    "name": "ipython",
    "version": 3
   },
   "file_extension": ".py",
   "mimetype": "text/x-python",
   "name": "python",
   "nbconvert_exporter": "python",
   "pygments_lexer": "ipython3",
   "version": "3.7.3"
  }
 },
 "nbformat": 4,
 "nbformat_minor": 2
}
